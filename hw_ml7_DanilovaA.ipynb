{
  "cells": [
    {
      "cell_type": "markdown",
      "metadata": {
        "id": "view-in-github",
        "colab_type": "text"
      },
      "source": [
        "<a href=\"https://colab.research.google.com/github/danilovabg/SkillFactory/blob/master/hw_ml7_DanilovaA.ipynb\" target=\"_parent\"><img src=\"https://colab.research.google.com/assets/colab-badge.svg\" alt=\"Open In Colab\"/></a>"
      ]
    },
    {
      "cell_type": "code",
      "execution_count": 1,
      "metadata": {
        "id": "XGHJ4fpQPmVO"
      },
      "outputs": [],
      "source": [
        "#импорт библиотек\n",
        "import numpy as np #для матричных вычислений\n",
        "import pandas as pd #для анализа и предобработки данных\n",
        "import matplotlib.pyplot as plt #для визуализации\n",
        "import seaborn as sns #для визуализации\n",
        "\n",
        "from sklearn import linear_model #линейные моделиё\n",
        "from sklearn import tree #деревья решений\n",
        "from sklearn import ensemble #ансамбли\n",
        "from sklearn import metrics #метрики\n",
        "from sklearn import preprocessing #предобработка\n",
        "from sklearn.model_selection import train_test_split #сплитование выборки\n",
        "from sklearn.model_selection import  GridSearchCV\n",
        "from sklearn.linear_model import LogisticRegression\n",
        "from sklearn.ensemble import RandomForestClassifier"
      ]
    },
    {
      "cell_type": "code",
      "execution_count": 14,
      "metadata": {
        "colab": {
          "base_uri": "https://localhost:8080/",
          "height": 193
        },
        "id": "cJH_BHTZPmVU",
        "outputId": "58962921-4498-4475-d9ae-8698e4251761"
      },
      "outputs": [
        {
          "output_type": "execute_result",
          "data": {
            "text/plain": [
              "      Activity        D1        D2   D3   D4        D5        D6        D7  \\\n",
              "3748         0  0.200000  0.520564  0.0  0.0  0.179949  0.768785  0.177341   \n",
              "3749         1  0.100000  0.765646  0.0  0.0  0.536954  0.634936  0.342713   \n",
              "3750         0  0.133333  0.533952  0.0  0.0  0.347966  0.757971  0.230667   \n",
              "\n",
              "            D8        D9  ...  D1767  D1768  D1769  D1770  D1771  D1772  \\\n",
              "3748  0.471179  0.872241  ...      0      0      0      0      0      0   \n",
              "3749  0.447162  0.672689  ...      0      0      0      0      0      0   \n",
              "3750  0.272652  0.854116  ...      0      0      0      0      0      0   \n",
              "\n",
              "      D1773  D1774  D1775  D1776  \n",
              "3748      0      0      0      0  \n",
              "3749      0      0      0      0  \n",
              "3750      0      0      0      0  \n",
              "\n",
              "[3 rows x 1777 columns]"
            ],
            "text/html": [
              "\n",
              "  <div id=\"df-e449c1c6-fc8c-479e-a5ec-fa570d4b2810\" class=\"colab-df-container\">\n",
              "    <div>\n",
              "<style scoped>\n",
              "    .dataframe tbody tr th:only-of-type {\n",
              "        vertical-align: middle;\n",
              "    }\n",
              "\n",
              "    .dataframe tbody tr th {\n",
              "        vertical-align: top;\n",
              "    }\n",
              "\n",
              "    .dataframe thead th {\n",
              "        text-align: right;\n",
              "    }\n",
              "</style>\n",
              "<table border=\"1\" class=\"dataframe\">\n",
              "  <thead>\n",
              "    <tr style=\"text-align: right;\">\n",
              "      <th></th>\n",
              "      <th>Activity</th>\n",
              "      <th>D1</th>\n",
              "      <th>D2</th>\n",
              "      <th>D3</th>\n",
              "      <th>D4</th>\n",
              "      <th>D5</th>\n",
              "      <th>D6</th>\n",
              "      <th>D7</th>\n",
              "      <th>D8</th>\n",
              "      <th>D9</th>\n",
              "      <th>...</th>\n",
              "      <th>D1767</th>\n",
              "      <th>D1768</th>\n",
              "      <th>D1769</th>\n",
              "      <th>D1770</th>\n",
              "      <th>D1771</th>\n",
              "      <th>D1772</th>\n",
              "      <th>D1773</th>\n",
              "      <th>D1774</th>\n",
              "      <th>D1775</th>\n",
              "      <th>D1776</th>\n",
              "    </tr>\n",
              "  </thead>\n",
              "  <tbody>\n",
              "    <tr>\n",
              "      <th>3748</th>\n",
              "      <td>0</td>\n",
              "      <td>0.200000</td>\n",
              "      <td>0.520564</td>\n",
              "      <td>0.0</td>\n",
              "      <td>0.0</td>\n",
              "      <td>0.179949</td>\n",
              "      <td>0.768785</td>\n",
              "      <td>0.177341</td>\n",
              "      <td>0.471179</td>\n",
              "      <td>0.872241</td>\n",
              "      <td>...</td>\n",
              "      <td>0</td>\n",
              "      <td>0</td>\n",
              "      <td>0</td>\n",
              "      <td>0</td>\n",
              "      <td>0</td>\n",
              "      <td>0</td>\n",
              "      <td>0</td>\n",
              "      <td>0</td>\n",
              "      <td>0</td>\n",
              "      <td>0</td>\n",
              "    </tr>\n",
              "    <tr>\n",
              "      <th>3749</th>\n",
              "      <td>1</td>\n",
              "      <td>0.100000</td>\n",
              "      <td>0.765646</td>\n",
              "      <td>0.0</td>\n",
              "      <td>0.0</td>\n",
              "      <td>0.536954</td>\n",
              "      <td>0.634936</td>\n",
              "      <td>0.342713</td>\n",
              "      <td>0.447162</td>\n",
              "      <td>0.672689</td>\n",
              "      <td>...</td>\n",
              "      <td>0</td>\n",
              "      <td>0</td>\n",
              "      <td>0</td>\n",
              "      <td>0</td>\n",
              "      <td>0</td>\n",
              "      <td>0</td>\n",
              "      <td>0</td>\n",
              "      <td>0</td>\n",
              "      <td>0</td>\n",
              "      <td>0</td>\n",
              "    </tr>\n",
              "    <tr>\n",
              "      <th>3750</th>\n",
              "      <td>0</td>\n",
              "      <td>0.133333</td>\n",
              "      <td>0.533952</td>\n",
              "      <td>0.0</td>\n",
              "      <td>0.0</td>\n",
              "      <td>0.347966</td>\n",
              "      <td>0.757971</td>\n",
              "      <td>0.230667</td>\n",
              "      <td>0.272652</td>\n",
              "      <td>0.854116</td>\n",
              "      <td>...</td>\n",
              "      <td>0</td>\n",
              "      <td>0</td>\n",
              "      <td>0</td>\n",
              "      <td>0</td>\n",
              "      <td>0</td>\n",
              "      <td>0</td>\n",
              "      <td>0</td>\n",
              "      <td>0</td>\n",
              "      <td>0</td>\n",
              "      <td>0</td>\n",
              "    </tr>\n",
              "  </tbody>\n",
              "</table>\n",
              "<p>3 rows × 1777 columns</p>\n",
              "</div>\n",
              "    <div class=\"colab-df-buttons\">\n",
              "\n",
              "  <div class=\"colab-df-container\">\n",
              "    <button class=\"colab-df-convert\" onclick=\"convertToInteractive('df-e449c1c6-fc8c-479e-a5ec-fa570d4b2810')\"\n",
              "            title=\"Convert this dataframe to an interactive table.\"\n",
              "            style=\"display:none;\">\n",
              "\n",
              "  <svg xmlns=\"http://www.w3.org/2000/svg\" height=\"24px\" viewBox=\"0 -960 960 960\">\n",
              "    <path d=\"M120-120v-720h720v720H120Zm60-500h600v-160H180v160Zm220 220h160v-160H400v160Zm0 220h160v-160H400v160ZM180-400h160v-160H180v160Zm440 0h160v-160H620v160ZM180-180h160v-160H180v160Zm440 0h160v-160H620v160Z\"/>\n",
              "  </svg>\n",
              "    </button>\n",
              "\n",
              "  <style>\n",
              "    .colab-df-container {\n",
              "      display:flex;\n",
              "      gap: 12px;\n",
              "    }\n",
              "\n",
              "    .colab-df-convert {\n",
              "      background-color: #E8F0FE;\n",
              "      border: none;\n",
              "      border-radius: 50%;\n",
              "      cursor: pointer;\n",
              "      display: none;\n",
              "      fill: #1967D2;\n",
              "      height: 32px;\n",
              "      padding: 0 0 0 0;\n",
              "      width: 32px;\n",
              "    }\n",
              "\n",
              "    .colab-df-convert:hover {\n",
              "      background-color: #E2EBFA;\n",
              "      box-shadow: 0px 1px 2px rgba(60, 64, 67, 0.3), 0px 1px 3px 1px rgba(60, 64, 67, 0.15);\n",
              "      fill: #174EA6;\n",
              "    }\n",
              "\n",
              "    .colab-df-buttons div {\n",
              "      margin-bottom: 4px;\n",
              "    }\n",
              "\n",
              "    [theme=dark] .colab-df-convert {\n",
              "      background-color: #3B4455;\n",
              "      fill: #D2E3FC;\n",
              "    }\n",
              "\n",
              "    [theme=dark] .colab-df-convert:hover {\n",
              "      background-color: #434B5C;\n",
              "      box-shadow: 0px 1px 3px 1px rgba(0, 0, 0, 0.15);\n",
              "      filter: drop-shadow(0px 1px 2px rgba(0, 0, 0, 0.3));\n",
              "      fill: #FFFFFF;\n",
              "    }\n",
              "  </style>\n",
              "\n",
              "    <script>\n",
              "      const buttonEl =\n",
              "        document.querySelector('#df-e449c1c6-fc8c-479e-a5ec-fa570d4b2810 button.colab-df-convert');\n",
              "      buttonEl.style.display =\n",
              "        google.colab.kernel.accessAllowed ? 'block' : 'none';\n",
              "\n",
              "      async function convertToInteractive(key) {\n",
              "        const element = document.querySelector('#df-e449c1c6-fc8c-479e-a5ec-fa570d4b2810');\n",
              "        const dataTable =\n",
              "          await google.colab.kernel.invokeFunction('convertToInteractive',\n",
              "                                                    [key], {});\n",
              "        if (!dataTable) return;\n",
              "\n",
              "        const docLinkHtml = 'Like what you see? Visit the ' +\n",
              "          '<a target=\"_blank\" href=https://colab.research.google.com/notebooks/data_table.ipynb>data table notebook</a>'\n",
              "          + ' to learn more about interactive tables.';\n",
              "        element.innerHTML = '';\n",
              "        dataTable['output_type'] = 'display_data';\n",
              "        await google.colab.output.renderOutput(dataTable, element);\n",
              "        const docLink = document.createElement('div');\n",
              "        docLink.innerHTML = docLinkHtml;\n",
              "        element.appendChild(docLink);\n",
              "      }\n",
              "    </script>\n",
              "  </div>\n",
              "\n",
              "\n",
              "<div id=\"df-95f2fc10-fc01-40b6-828d-b253e862272a\">\n",
              "  <button class=\"colab-df-quickchart\" onclick=\"quickchart('df-95f2fc10-fc01-40b6-828d-b253e862272a')\"\n",
              "            title=\"Suggest charts\"\n",
              "            style=\"display:none;\">\n",
              "\n",
              "<svg xmlns=\"http://www.w3.org/2000/svg\" height=\"24px\"viewBox=\"0 0 24 24\"\n",
              "     width=\"24px\">\n",
              "    <g>\n",
              "        <path d=\"M19 3H5c-1.1 0-2 .9-2 2v14c0 1.1.9 2 2 2h14c1.1 0 2-.9 2-2V5c0-1.1-.9-2-2-2zM9 17H7v-7h2v7zm4 0h-2V7h2v10zm4 0h-2v-4h2v4z\"/>\n",
              "    </g>\n",
              "</svg>\n",
              "  </button>\n",
              "\n",
              "<style>\n",
              "  .colab-df-quickchart {\n",
              "      --bg-color: #E8F0FE;\n",
              "      --fill-color: #1967D2;\n",
              "      --hover-bg-color: #E2EBFA;\n",
              "      --hover-fill-color: #174EA6;\n",
              "      --disabled-fill-color: #AAA;\n",
              "      --disabled-bg-color: #DDD;\n",
              "  }\n",
              "\n",
              "  [theme=dark] .colab-df-quickchart {\n",
              "      --bg-color: #3B4455;\n",
              "      --fill-color: #D2E3FC;\n",
              "      --hover-bg-color: #434B5C;\n",
              "      --hover-fill-color: #FFFFFF;\n",
              "      --disabled-bg-color: #3B4455;\n",
              "      --disabled-fill-color: #666;\n",
              "  }\n",
              "\n",
              "  .colab-df-quickchart {\n",
              "    background-color: var(--bg-color);\n",
              "    border: none;\n",
              "    border-radius: 50%;\n",
              "    cursor: pointer;\n",
              "    display: none;\n",
              "    fill: var(--fill-color);\n",
              "    height: 32px;\n",
              "    padding: 0;\n",
              "    width: 32px;\n",
              "  }\n",
              "\n",
              "  .colab-df-quickchart:hover {\n",
              "    background-color: var(--hover-bg-color);\n",
              "    box-shadow: 0 1px 2px rgba(60, 64, 67, 0.3), 0 1px 3px 1px rgba(60, 64, 67, 0.15);\n",
              "    fill: var(--button-hover-fill-color);\n",
              "  }\n",
              "\n",
              "  .colab-df-quickchart-complete:disabled,\n",
              "  .colab-df-quickchart-complete:disabled:hover {\n",
              "    background-color: var(--disabled-bg-color);\n",
              "    fill: var(--disabled-fill-color);\n",
              "    box-shadow: none;\n",
              "  }\n",
              "\n",
              "  .colab-df-spinner {\n",
              "    border: 2px solid var(--fill-color);\n",
              "    border-color: transparent;\n",
              "    border-bottom-color: var(--fill-color);\n",
              "    animation:\n",
              "      spin 1s steps(1) infinite;\n",
              "  }\n",
              "\n",
              "  @keyframes spin {\n",
              "    0% {\n",
              "      border-color: transparent;\n",
              "      border-bottom-color: var(--fill-color);\n",
              "      border-left-color: var(--fill-color);\n",
              "    }\n",
              "    20% {\n",
              "      border-color: transparent;\n",
              "      border-left-color: var(--fill-color);\n",
              "      border-top-color: var(--fill-color);\n",
              "    }\n",
              "    30% {\n",
              "      border-color: transparent;\n",
              "      border-left-color: var(--fill-color);\n",
              "      border-top-color: var(--fill-color);\n",
              "      border-right-color: var(--fill-color);\n",
              "    }\n",
              "    40% {\n",
              "      border-color: transparent;\n",
              "      border-right-color: var(--fill-color);\n",
              "      border-top-color: var(--fill-color);\n",
              "    }\n",
              "    60% {\n",
              "      border-color: transparent;\n",
              "      border-right-color: var(--fill-color);\n",
              "    }\n",
              "    80% {\n",
              "      border-color: transparent;\n",
              "      border-right-color: var(--fill-color);\n",
              "      border-bottom-color: var(--fill-color);\n",
              "    }\n",
              "    90% {\n",
              "      border-color: transparent;\n",
              "      border-bottom-color: var(--fill-color);\n",
              "    }\n",
              "  }\n",
              "</style>\n",
              "\n",
              "  <script>\n",
              "    async function quickchart(key) {\n",
              "      const quickchartButtonEl =\n",
              "        document.querySelector('#' + key + ' button');\n",
              "      quickchartButtonEl.disabled = true;  // To prevent multiple clicks.\n",
              "      quickchartButtonEl.classList.add('colab-df-spinner');\n",
              "      try {\n",
              "        const charts = await google.colab.kernel.invokeFunction(\n",
              "            'suggestCharts', [key], {});\n",
              "      } catch (error) {\n",
              "        console.error('Error during call to suggestCharts:', error);\n",
              "      }\n",
              "      quickchartButtonEl.classList.remove('colab-df-spinner');\n",
              "      quickchartButtonEl.classList.add('colab-df-quickchart-complete');\n",
              "    }\n",
              "    (() => {\n",
              "      let quickchartButtonEl =\n",
              "        document.querySelector('#df-95f2fc10-fc01-40b6-828d-b253e862272a button');\n",
              "      quickchartButtonEl.style.display =\n",
              "        google.colab.kernel.accessAllowed ? 'block' : 'none';\n",
              "    })();\n",
              "  </script>\n",
              "</div>\n",
              "    </div>\n",
              "  </div>\n"
            ]
          },
          "metadata": {},
          "execution_count": 14
        }
      ],
      "source": [
        "data = pd.read_csv('_train_sem09 (1).csv')\n",
        "data.tail(3)"
      ]
    },
    {
      "cell_type": "code",
      "execution_count": 15,
      "metadata": {
        "id": "3FhwPZIcPmVX"
      },
      "outputs": [],
      "source": [
        "X = data.drop(['Activity'], axis=1)\n",
        "y = data['Activity']\n",
        "X_train, X_test, y_train, y_test = train_test_split(X, y, stratify=y, random_state = 42, test_size = 0.2)"
      ]
    },
    {
      "cell_type": "markdown",
      "metadata": {
        "id": "ICReaj2qPmVY"
      },
      "source": [
        "# Logistic regression"
      ]
    },
    {
      "cell_type": "code",
      "source": [
        "logreg = LogisticRegression(random_state=42)\n",
        "logreg.fit(X_train, y_train)\n",
        "log_pred = logreg.predict(X_test)\n",
        "print(f'F1 at test {metrics.f1_score(y_test, log_pred):.2f}')\n",
        "print(f'F1 at train {metrics.f1_score(y_train, logreg.predict(X_train)):.2f}')\n"
      ],
      "metadata": {
        "colab": {
          "base_uri": "https://localhost:8080/"
        },
        "id": "tECAtpjoSKt4",
        "outputId": "22a0ec45-0982-4625-9bbe-955fae99e72e"
      },
      "execution_count": 16,
      "outputs": [
        {
          "output_type": "stream",
          "name": "stdout",
          "text": [
            "F1 at test 0.78\n",
            "F1 at train 0.89\n"
          ]
        },
        {
          "output_type": "stream",
          "name": "stderr",
          "text": [
            "/usr/local/lib/python3.10/dist-packages/sklearn/linear_model/_logistic.py:458: ConvergenceWarning: lbfgs failed to converge (status=1):\n",
            "STOP: TOTAL NO. of ITERATIONS REACHED LIMIT.\n",
            "\n",
            "Increase the number of iterations (max_iter) or scale the data as shown in:\n",
            "    https://scikit-learn.org/stable/modules/preprocessing.html\n",
            "Please also refer to the documentation for alternative solver options:\n",
            "    https://scikit-learn.org/stable/modules/linear_model.html#logistic-regression\n",
            "  n_iter_i = _check_optimize_result(\n"
          ]
        }
      ]
    },
    {
      "cell_type": "markdown",
      "metadata": {
        "id": "F2vUNG9oPmVb"
      },
      "source": [
        "# Random Forest"
      ]
    },
    {
      "cell_type": "code",
      "execution_count": 17,
      "metadata": {
        "colab": {
          "base_uri": "https://localhost:8080/"
        },
        "id": "v2Up6qbMPmVc",
        "outputId": "0e78c1a5-ca1e-4f64-8221-22a68b28d50e"
      },
      "outputs": [
        {
          "output_type": "stream",
          "name": "stdout",
          "text": [
            "F1 at test 0.80\n",
            "F1 at train 1.00\n"
          ]
        }
      ],
      "source": [
        "forest = RandomForestClassifier(random_state=42)\n",
        "forest.fit(X_train, y_train)\n",
        "forest_pred = forest.predict(X_test)\n",
        "print(f'F1 at test {metrics.f1_score(y_test, forest_pred):.2f}')\n",
        "print(f'F1 at train {metrics.f1_score(y_train, forest.predict(X_train)):.2f}')"
      ]
    },
    {
      "cell_type": "markdown",
      "source": [
        "Метрика на трейне равна 1, при этом метрика на тесте 0,8\n",
        "видно переобучение теме не менее метрика случайного леса на тесте выше метрики логистической регрессии"
      ],
      "metadata": {
        "id": "hL_ivWEBXL37"
      }
    },
    {
      "cell_type": "markdown",
      "metadata": {
        "id": "1bXoLgxiPmVd"
      },
      "source": [
        "# GridSearch"
      ]
    },
    {
      "cell_type": "markdown",
      "metadata": {
        "id": "6tyOCUFiPmVe"
      },
      "source": [
        "## Logistic regression with GridSearch"
      ]
    },
    {
      "cell_type": "code",
      "source": [
        "param_grid = [\n",
        "              {'penalty': ['l2', 'none'] , # тип регуляризации\n",
        "              'solver': ['lbfgs', 'sag'], # алгоритм оптимизации\n",
        "               'C': [0.01, 0.1, 0.3, 0.5, 0.7, 0.9, 1]}, # уровень силы регурялизации\n",
        "\n",
        "              {'penalty': ['l1', 'l2'] ,\n",
        "              'solver': ['liblinear', 'saga'],\n",
        "               'C': [0.01, 0.1, 0.3, 0.5, 0.7, 0.9, 1]}\n",
        "]\n",
        "grid_search_1 = GridSearchCV(\n",
        "    estimator=linear_model.LogisticRegression(random_state=1, max_iter=50),\n",
        "    param_grid=param_grid,\n",
        "    cv=5,\n",
        "    n_jobs = -1\n",
        ")\n",
        "%time grid_search_1.fit(X_train, y_train)\n",
        "print(\"accuracy на тестовом наборе: {:.2f}\".format(grid_search_1.score(X_test, y_test)))\n",
        "y_test_pred = grid_search_1.predict(X_test)\n",
        "print('f1_score на тестовом наборе: {:.2f}'.format(metrics.f1_score(y_test, y_test_pred)))\n",
        "print(\"Наилучшие значения гиперпараметров: {}\".format(grid_search_1.best_params_))"
      ],
      "metadata": {
        "colab": {
          "base_uri": "https://localhost:8080/"
        },
        "id": "zyu-02i9Wzsd",
        "outputId": "95e53a8b-13ee-4fc4-cf5d-75e42408a4b7"
      },
      "execution_count": 26,
      "outputs": [
        {
          "output_type": "stream",
          "name": "stdout",
          "text": [
            "CPU times: user 10.1 s, sys: 1.06 s, total: 11.2 s\n",
            "Wall time: 8min 28s\n",
            "accuracy на тестовом наборе: 0.76\n",
            "f1_score на тестовом наборе: 0.79\n",
            "Наилучшие значения гиперпараметров: {'C': 0.3, 'penalty': 'l1', 'solver': 'saga'}\n"
          ]
        },
        {
          "output_type": "stream",
          "name": "stderr",
          "text": [
            "/usr/local/lib/python3.10/dist-packages/sklearn/linear_model/_sag.py:350: ConvergenceWarning: The max_iter was reached which means the coef_ did not converge\n",
            "  warnings.warn(\n"
          ]
        }
      ]
    },
    {
      "cell_type": "code",
      "source": [
        "y_train_pred = grid_search_1.predict(X_train)\n",
        "print('f1_score на тестовом наборе: {:.2f}'.format(metrics.f1_score(y_test, y_test_pred)))\n",
        "print('f1_score на тренировочном наборе: {:.2f}'.format(metrics.f1_score(y_train, y_train_pred)))\n",
        "print(\"Наилучшие значения гиперпараметров: {}\".format(grid_search_1.best_params_))"
      ],
      "metadata": {
        "colab": {
          "base_uri": "https://localhost:8080/"
        },
        "id": "kr7s49DtXlJl",
        "outputId": "9fd1da3a-9d09-417b-fe6d-898122d736ac"
      },
      "execution_count": 29,
      "outputs": [
        {
          "output_type": "stream",
          "name": "stdout",
          "text": [
            "f1_score на тестовом наборе: 0.79\n",
            "f1_score на тренировочном наборе: 0.83\n",
            "Наилучшие значения гиперпараметров: {'C': 0.3, 'penalty': 'l1', 'solver': 'saga'}\n"
          ]
        }
      ]
    },
    {
      "cell_type": "markdown",
      "metadata": {
        "id": "8C7qMqFAPmVf"
      },
      "source": [
        "# Random Forest with GridSearch"
      ]
    },
    {
      "cell_type": "code",
      "source": [
        "param_grid = {'n_estimators': list(range(80, 200, 30)),\n",
        "              'min_samples_leaf': [5],\n",
        "              'max_depth': list(np.linspace(20, 40, 5, dtype=int))\n",
        "              }\n",
        "\n",
        "grid_search_forest = GridSearchCV(\n",
        "    estimator=ensemble.RandomForestClassifier(random_state=42),\n",
        "    param_grid=param_grid,\n",
        "    cv=5,\n",
        "    n_jobs = -1\n",
        ")\n",
        "%time grid_search_forest.fit(X_train, y_train)\n",
        "y_train_pred = grid_search_forest.predict(X_train)\n",
        "print('f1_score на обучающем наборе: {:.2f}'.format(metrics.f1_score(y_train, y_train_pred)))\n",
        "print(\"accuracy на тестовом наборе: {:.2f}\".format(grid_search_forest.score(X_test, y_test)))\n",
        "y_test_pred = grid_search_forest.predict(X_test)\n",
        "print('f1_score на тестовом наборе: {:.2f}'.format(metrics.f1_score(y_test, y_test_pred)))\n",
        "print(\"Наилучшие значения гиперпараметров: {}\".format(grid_search_forest.best_params_))"
      ],
      "metadata": {
        "colab": {
          "base_uri": "https://localhost:8080/"
        },
        "id": "CRShyu-9QBGZ",
        "outputId": "564b2e4e-a570-4ddd-b930-f50e48e42a2a"
      },
      "execution_count": 20,
      "outputs": [
        {
          "output_type": "stream",
          "name": "stdout",
          "text": [
            "CPU times: user 4.15 s, sys: 365 ms, total: 4.51 s\n",
            "Wall time: 2min 22s\n",
            "f1_score на обучающем наборе: 0.94\n",
            "accuracy на тестовом наборе: 0.78\n",
            "f1_score на тестовом наборе: 0.80\n",
            "Наилучшие значения гиперпараметров: {'max_depth': 20, 'min_samples_leaf': 5, 'n_estimators': 140}\n"
          ]
        }
      ]
    },
    {
      "cell_type": "code",
      "source": [
        "y_train_pred = grid_search_forest.predict(X_train)\n",
        "print('f1_score на тестовом наборе: {:.2f}'.format(metrics.f1_score(y_test, y_test_pred)))\n",
        "print('f1_score на тренировочном наборе: {:.2f}'.format(metrics.f1_score(y_train, y_train_pred)))\n",
        "print(\"Наилучшие значения гиперпараметров: {}\".format(grid_search_forest.best_params_))"
      ],
      "metadata": {
        "colab": {
          "base_uri": "https://localhost:8080/"
        },
        "id": "gxGKX1FEZ0zw",
        "outputId": "54de9354-ba8a-471f-f06a-7aece6b294db"
      },
      "execution_count": 30,
      "outputs": [
        {
          "output_type": "stream",
          "name": "stdout",
          "text": [
            "f1_score на тестовом наборе: 0.80\n",
            "f1_score на тренировочном наборе: 0.94\n",
            "Наилучшие значения гиперпараметров: {'max_depth': 20, 'min_samples_leaf': 5, 'n_estimators': 140}\n"
          ]
        }
      ]
    },
    {
      "cell_type": "markdown",
      "source": [
        "После поиска гиперпараметров по сетке видно что на модели логистической регрессии немного подросла метрика, но поиск параметров модели случайного леса не дал прироста метрики, для дальнейшего поиска нужно изменить параметры сетки"
      ],
      "metadata": {
        "id": "ZA-rgrEEaB2r"
      }
    },
    {
      "cell_type": "markdown",
      "metadata": {
        "id": "7obCf7mGPmVg"
      },
      "source": [
        "# RandomizedSearch"
      ]
    },
    {
      "cell_type": "markdown",
      "metadata": {
        "id": "Y1MgPCRuPmVh"
      },
      "source": [
        "## RandomizedSearch with Logistic regression"
      ]
    },
    {
      "cell_type": "code",
      "execution_count": 33,
      "metadata": {
        "colab": {
          "base_uri": "https://localhost:8080/"
        },
        "id": "m_pK4k_TPmVh",
        "outputId": "65747eb1-a030-4921-ef99-f0f338582fa8"
      },
      "outputs": [
        {
          "output_type": "stream",
          "name": "stdout",
          "text": [
            "CPU times: user 1.87 s, sys: 344 ms, total: 2.22 s\n",
            "Wall time: 1min 11s\n",
            "accuracy на тестовом наборе: 0.75\n",
            "f1_score на тестовом наборе: 0.78\n",
            "f1_score на тренировочном наборе: 0.82\n",
            "Наилучшие значения гиперпараметров: {'solver': 'lbfgs', 'penalty': 'l2', 'C': 0.01}\n"
          ]
        },
        {
          "output_type": "stream",
          "name": "stderr",
          "text": [
            "/usr/local/lib/python3.10/dist-packages/sklearn/linear_model/_logistic.py:458: ConvergenceWarning: lbfgs failed to converge (status=1):\n",
            "STOP: TOTAL NO. of ITERATIONS REACHED LIMIT.\n",
            "\n",
            "Increase the number of iterations (max_iter) or scale the data as shown in:\n",
            "    https://scikit-learn.org/stable/modules/preprocessing.html\n",
            "Please also refer to the documentation for alternative solver options:\n",
            "    https://scikit-learn.org/stable/modules/linear_model.html#logistic-regression\n",
            "  n_iter_i = _check_optimize_result(\n"
          ]
        }
      ],
      "source": [
        "from sklearn.model_selection import RandomizedSearchCV\n",
        "\n",
        "#np.linspace(start(от), stop(до), num=50(количество),dtype- тип данных)\n",
        "param_distributions = {'penalty': ['l2', 'none'] ,\n",
        "              'solver': ['lbfgs', 'sag'],\n",
        "               'C': list(np.linspace(0.01, 1, 10, dtype=float))}\n",
        "\n",
        "random_search = RandomizedSearchCV(\n",
        "    estimator=linear_model.LogisticRegression(random_state=42, max_iter=50),\n",
        "    param_distributions=param_distributions,\n",
        "    cv=5,\n",
        "    n_iter = 10,\n",
        "    n_jobs = -1\n",
        ")\n",
        "%time random_search.fit(X_train, y_train)\n",
        "y_train_pred = random_search.predict(X_train)\n",
        "print(\"accuracy на тестовом наборе: {:.2f}\".format(random_search.score(X_test, y_test)))\n",
        "y_test_pred = random_search.predict(X_test)\n",
        "print('f1_score на тестовом наборе: {:.2f}'.format(metrics.f1_score(y_test, y_test_pred)))\n",
        "print('f1_score на тренировочном наборе: {:.2f}'.format(metrics.f1_score(y_train, y_train_pred)))\n",
        "print(\"Наилучшие значения гиперпараметров: {}\".format(random_search.best_params_))"
      ]
    },
    {
      "cell_type": "markdown",
      "source": [
        "У линейной модели опять не видно улучшения результатов"
      ],
      "metadata": {
        "id": "BaPRf7x5bKpX"
      }
    },
    {
      "cell_type": "markdown",
      "metadata": {
        "id": "PdNXxa9KPmVh"
      },
      "source": [
        "## RandomizedSearch with RandomForest"
      ]
    },
    {
      "cell_type": "code",
      "execution_count": 35,
      "metadata": {
        "colab": {
          "base_uri": "https://localhost:8080/"
        },
        "id": "1-T4iA4kPmVi",
        "outputId": "2b213de5-6c92-4a33-d976-69c3110e6b54"
      },
      "outputs": [
        {
          "output_type": "stream",
          "name": "stdout",
          "text": [
            "CPU times: user 5.45 s, sys: 582 ms, total: 6.03 s\n",
            "Wall time: 3min 58s\n",
            "accuracy на тестовом наборе: 0.78\n",
            "f1_score на тестовом наборе: 0.80\n",
            "f1_score на тренировочном наборе: 0.94\n",
            "Наилучшие значения гиперпараметров: {'max_depth': 15, 'min_samples_leaf': 5, 'n_estimators': 190}\n"
          ]
        }
      ],
      "source": [
        "param_grid = {'n_estimators': list(range(100, 200, 30)),\n",
        "              'min_samples_leaf': [5, 7],\n",
        "              'max_depth' : [10, 15, 20, 25]\n",
        "              }\n",
        "\n",
        "grid_search_tree = GridSearchCV(\n",
        "    estimator=ensemble.RandomForestClassifier(random_state=42),\n",
        "    param_grid = param_grid,\n",
        "    cv=5,\n",
        "    n_jobs = -1\n",
        ")\n",
        "%time grid_search_tree.fit(X_train, y_train)\n",
        "y_train_pred = grid_search_tree.predict(X_train)\n",
        "print(\"accuracy на тестовом наборе: {:.2f}\".format(grid_search_tree.score(X_test, y_test)))\n",
        "y_test_pred = grid_search_tree.predict(X_test)\n",
        "print('f1_score на тестовом наборе: {:.2f}'.format(metrics.f1_score(y_test, y_test_pred)))\n",
        "print('f1_score на тренировочном наборе: {:.2f}'.format(metrics.f1_score(y_train, y_train_pred)))\n",
        "print(\"Наилучшие значения гиперпараметров: {}\".format(grid_search_tree.best_params_))"
      ]
    },
    {
      "cell_type": "markdown",
      "source": [
        "Как и в предыдущих вариантах случайный лес показывает лучшее значение метрики в сравнении с линейной регрессией"
      ],
      "metadata": {
        "id": "MZbYcMPEdhxz"
      }
    },
    {
      "cell_type": "code",
      "source": [
        "!pip install hyperopt==0.2.5"
      ],
      "metadata": {
        "colab": {
          "base_uri": "https://localhost:8080/"
        },
        "id": "7ZKkq6BgbWzl",
        "outputId": "cf0227f4-dcb9-4870-93b5-e97bae1aa97e"
      },
      "execution_count": 39,
      "outputs": [
        {
          "output_type": "stream",
          "name": "stdout",
          "text": [
            "Collecting hyperopt==0.2.5\n",
            "  Downloading hyperopt-0.2.5-py2.py3-none-any.whl (965 kB)\n",
            "\u001b[2K     \u001b[90m━━━━━━━━━━━━━━━━━━━━━━━━━━━━━━━━━━━━━━━━\u001b[0m \u001b[32m966.0/966.0 kB\u001b[0m \u001b[31m10.2 MB/s\u001b[0m eta \u001b[36m0:00:00\u001b[0m\n",
            "\u001b[?25hRequirement already satisfied: numpy in /usr/local/lib/python3.10/dist-packages (from hyperopt==0.2.5) (1.23.5)\n",
            "Requirement already satisfied: scipy in /usr/local/lib/python3.10/dist-packages (from hyperopt==0.2.5) (1.11.3)\n",
            "Requirement already satisfied: six in /usr/local/lib/python3.10/dist-packages (from hyperopt==0.2.5) (1.16.0)\n",
            "Requirement already satisfied: networkx>=2.2 in /usr/local/lib/python3.10/dist-packages (from hyperopt==0.2.5) (3.2.1)\n",
            "Requirement already satisfied: future in /usr/local/lib/python3.10/dist-packages (from hyperopt==0.2.5) (0.18.3)\n",
            "Requirement already satisfied: tqdm in /usr/local/lib/python3.10/dist-packages (from hyperopt==0.2.5) (4.66.1)\n",
            "Requirement already satisfied: cloudpickle in /usr/local/lib/python3.10/dist-packages (from hyperopt==0.2.5) (2.2.1)\n",
            "Installing collected packages: hyperopt\n",
            "  Attempting uninstall: hyperopt\n",
            "    Found existing installation: hyperopt 0.2.7\n",
            "    Uninstalling hyperopt-0.2.7:\n",
            "      Successfully uninstalled hyperopt-0.2.7\n",
            "Successfully installed hyperopt-0.2.5\n"
          ]
        }
      ]
    },
    {
      "cell_type": "code",
      "source": [
        "from sklearn.model_selection import cross_val_score\n",
        "import hyperopt\n",
        "from hyperopt import hp, fmin, tpe, Trials\n",
        "print(\"Версия Hyperopt : {}\".format(hyperopt.__version__))"
      ],
      "metadata": {
        "colab": {
          "base_uri": "https://localhost:8080/"
        },
        "id": "XICuI39WdwZE",
        "outputId": "31e6512c-d0af-43bf-df55-6a0a81959878"
      },
      "execution_count": 40,
      "outputs": [
        {
          "output_type": "stream",
          "name": "stdout",
          "text": [
            "Версия Hyperopt : 0.2.5\n"
          ]
        }
      ]
    },
    {
      "cell_type": "code",
      "source": [
        "# зададим пространство поиска гиперпараметров\n",
        "space={'n_estimators': hp.quniform('n_estimators', 100, 300, 10),\n",
        "       'max_depth' : hp.quniform('max_depth', 15, 40, 1),\n",
        "       'min_samples_leaf': hp.quniform('min_samples_leaf', 3, 7, 1)\n",
        "      }\n",
        "\n",
        "#  зафксируем random_state\n",
        "random_state = 42\n",
        "def hyperopt_rf(params, cv=5, X=X_train, y=y_train, random_state=random_state):\n",
        "    # функция получает комбинацию гиперпараметров в \"params\"\n",
        "    params = {'n_estimators': int(params['n_estimators']),\n",
        "              'max_depth': int(params['max_depth']),\n",
        "             'min_samples_leaf': int(params['min_samples_leaf'])\n",
        "              }\n",
        "\n",
        "    # используем эту комбинацию для построения модели\n",
        "    model = ensemble.RandomForestClassifier(**params, random_state=random_state)\n",
        "\n",
        "    # обучаем модель\n",
        "    model.fit(X, y)\n",
        "    score = metrics.f1_score(y, model.predict(X))\n",
        "\n",
        "    return -score\n",
        "\n",
        "\n",
        "trials = Trials() # используется для логирования результатов\n",
        "\n",
        "best=fmin(hyperopt_rf, # наша функция\n",
        "          space=space, # пространство гиперпараметров\n",
        "          algo=tpe.suggest, # алгоритм оптимизации, установлен по умолчанию, задавать необязательно\n",
        "          max_evals=20, # максимальное количество итераций\n",
        "          trials=trials, # логирование результатов\n",
        "          rstate=np.random.RandomState(random_state)# фиксируем для повторяемости результата\n",
        "         )\n",
        "print(\"Наилучшие значения гиперпараметров {}\".format(best))\n",
        "\n",
        "# рассчитаем точность для тестовой выборки\n",
        "model = ensemble.RandomForestClassifier(\n",
        "    random_state=random_state,\n",
        "    n_estimators=int(best['n_estimators']),\n",
        "    max_depth=int(best['max_depth']),\n",
        "    min_samples_leaf=int(best['min_samples_leaf'])\n",
        ")\n",
        "model.fit(X_train, y_train)\n",
        "y_train_pred = model.predict(X_train)\n",
        "print('f1_score на обучающем наборе: {:.2f}'.format(metrics.f1_score(y_train, y_train_pred)))\n",
        "print(\"accuracy на тестовом наборе: {:.2f}\".format(model.score(X_test, y_test)))\n",
        "y_test_pred = model.predict(X_test)\n",
        "print('f1_score на тестовом наборе: {:.2f}'.format(metrics.f1_score(y_test, y_test_pred)))\n",
        "print('f1_score на тренировочном наборе: {:.2f}'.format(metrics.f1_score(y_train, y_train_pred)))"
      ],
      "metadata": {
        "colab": {
          "base_uri": "https://localhost:8080/"
        },
        "id": "PYsdU1Isd-ld",
        "outputId": "89218359-75f6-4ca7-8370-446fd92e240e"
      },
      "execution_count": 42,
      "outputs": [
        {
          "output_type": "stream",
          "name": "stdout",
          "text": [
            "100%|██████████| 20/20 [01:23<00:00,  4.17s/trial, best loss: -0.9746719560573696]\n",
            "Наилучшие значения гиперпараметров {'max_depth': 36.0, 'min_samples_leaf': 3.0, 'n_estimators': 210.0}\n",
            "f1_score на обучающем наборе: 0.97\n",
            "accuracy на тестовом наборе: 0.78\n",
            "f1_score на тестовом наборе: 0.80\n",
            "f1_score на тренировочном наборе: 0.97\n"
          ]
        }
      ]
    },
    {
      "cell_type": "markdown",
      "source": [
        "Метрика опять осталась той же что и при других способах оптимизации гиперпараметров"
      ],
      "metadata": {
        "id": "qXQNtuQGfaVv"
      }
    },
    {
      "cell_type": "code",
      "source": [
        "!pip install optuna"
      ],
      "metadata": {
        "colab": {
          "base_uri": "https://localhost:8080/"
        },
        "id": "YK-L1oPtfkkj",
        "outputId": "698b899f-8911-4d60-a453-4859f1e2c0b8"
      },
      "execution_count": 44,
      "outputs": [
        {
          "output_type": "stream",
          "name": "stdout",
          "text": [
            "Collecting optuna\n",
            "  Downloading optuna-3.4.0-py3-none-any.whl (409 kB)\n",
            "\u001b[2K     \u001b[90m━━━━━━━━━━━━━━━━━━━━━━━━━━━━━━━━━━━━━━━━\u001b[0m \u001b[32m409.6/409.6 kB\u001b[0m \u001b[31m4.4 MB/s\u001b[0m eta \u001b[36m0:00:00\u001b[0m\n",
            "\u001b[?25hCollecting alembic>=1.5.0 (from optuna)\n",
            "  Downloading alembic-1.12.1-py3-none-any.whl (226 kB)\n",
            "\u001b[2K     \u001b[90m━━━━━━━━━━━━━━━━━━━━━━━━━━━━━━━━━━━━━━━━\u001b[0m \u001b[32m226.8/226.8 kB\u001b[0m \u001b[31m21.1 MB/s\u001b[0m eta \u001b[36m0:00:00\u001b[0m\n",
            "\u001b[?25hCollecting colorlog (from optuna)\n",
            "  Downloading colorlog-6.7.0-py2.py3-none-any.whl (11 kB)\n",
            "Requirement already satisfied: numpy in /usr/local/lib/python3.10/dist-packages (from optuna) (1.23.5)\n",
            "Requirement already satisfied: packaging>=20.0 in /usr/local/lib/python3.10/dist-packages (from optuna) (23.2)\n",
            "Requirement already satisfied: sqlalchemy>=1.3.0 in /usr/local/lib/python3.10/dist-packages (from optuna) (2.0.23)\n",
            "Requirement already satisfied: tqdm in /usr/local/lib/python3.10/dist-packages (from optuna) (4.66.1)\n",
            "Requirement already satisfied: PyYAML in /usr/local/lib/python3.10/dist-packages (from optuna) (6.0.1)\n",
            "Collecting Mako (from alembic>=1.5.0->optuna)\n",
            "  Downloading Mako-1.3.0-py3-none-any.whl (78 kB)\n",
            "\u001b[2K     \u001b[90m━━━━━━━━━━━━━━━━━━━━━━━━━━━━━━━━━━━━━━━━\u001b[0m \u001b[32m78.6/78.6 kB\u001b[0m \u001b[31m8.8 MB/s\u001b[0m eta \u001b[36m0:00:00\u001b[0m\n",
            "\u001b[?25hRequirement already satisfied: typing-extensions>=4 in /usr/local/lib/python3.10/dist-packages (from alembic>=1.5.0->optuna) (4.5.0)\n",
            "Requirement already satisfied: greenlet!=0.4.17 in /usr/local/lib/python3.10/dist-packages (from sqlalchemy>=1.3.0->optuna) (3.0.1)\n",
            "Requirement already satisfied: MarkupSafe>=0.9.2 in /usr/local/lib/python3.10/dist-packages (from Mako->alembic>=1.5.0->optuna) (2.1.3)\n",
            "Installing collected packages: Mako, colorlog, alembic, optuna\n",
            "Successfully installed Mako-1.3.0 alembic-1.12.1 colorlog-6.7.0 optuna-3.4.0\n"
          ]
        }
      ]
    },
    {
      "cell_type": "code",
      "source": [
        "import optuna\n",
        "\n",
        "print(\"Версия Optuna: {}\".format(optuna.__version__))"
      ],
      "metadata": {
        "colab": {
          "base_uri": "https://localhost:8080/"
        },
        "id": "LnyKwqRmfgFU",
        "outputId": "244111cd-f637-4618-b2fc-226f1e51a0a4"
      },
      "execution_count": 45,
      "outputs": [
        {
          "output_type": "stream",
          "name": "stdout",
          "text": [
            "Версия Optuna: 3.4.0\n"
          ]
        }
      ]
    },
    {
      "cell_type": "code",
      "source": [
        "def optuna_rf(trial):\n",
        "  # задаем пространства поиска гиперпараметров\n",
        "  n_estimators = trial.suggest_int('n_estimators', 100, 200, 1)\n",
        "  max_depth = trial.suggest_int('max_depth', 10, 30, 1)\n",
        "  min_samples_leaf = trial.suggest_int('min_samples_leaf', 2, 10, 1)\n",
        "\n",
        "  # создаем модель\n",
        "  model = ensemble.RandomForestClassifier(n_estimators=n_estimators,\n",
        "                                          max_depth=max_depth,\n",
        "                                          min_samples_leaf=min_samples_leaf,\n",
        "                                          random_state=random_state)\n",
        "  # обучаем модель\n",
        "  model.fit(X_train, y_train)\n",
        "  score = metrics.f1_score(y_train, model.predict(X_train))\n",
        "\n",
        "  return score\n",
        "\n",
        "  %%time\n",
        "# cоздаем объект исследования\n",
        "# можем напрямую указать, что нам необходимо максимизировать метрику direction=\"maximize\"\n",
        "study = optuna.create_study(study_name=\"RandomForestClassifier\", direction=\"maximize\")\n",
        "# ищем лучшую комбинацию гиперпараметров n_trials раз\n",
        "study.optimize(optuna_rf, n_trials=20)"
      ],
      "metadata": {
        "colab": {
          "base_uri": "https://localhost:8080/"
        },
        "id": "rfjNwYJtfjm4",
        "outputId": "bdaf32c9-3531-42f7-bdbf-b287c85ff0f2"
      },
      "execution_count": 47,
      "outputs": [
        {
          "output_type": "stream",
          "name": "stderr",
          "text": [
            "[I 2023-11-16 14:18:09,694] A new study created in memory with name: RandomForestClassifier\n",
            "[I 2023-11-16 14:18:16,690] Trial 0 finished with value: 0.9287454323995127 and parameters: {'n_estimators': 141, 'max_depth': 27, 'min_samples_leaf': 6}. Best is trial 0 with value: 0.9287454323995127.\n",
            "[I 2023-11-16 14:18:20,939] Trial 1 finished with value: 0.8999087313659873 and parameters: {'n_estimators': 137, 'max_depth': 12, 'min_samples_leaf': 8}. Best is trial 0 with value: 0.9287454323995127.\n",
            "[I 2023-11-16 14:18:23,755] Trial 2 finished with value: 0.9333740831295844 and parameters: {'n_estimators': 106, 'max_depth': 12, 'min_samples_leaf': 4}. Best is trial 2 with value: 0.9333740831295844.\n",
            "[I 2023-11-16 14:18:32,507] Trial 3 finished with value: 0.9009118541033436 and parameters: {'n_estimators': 196, 'max_depth': 15, 'min_samples_leaf': 9}. Best is trial 2 with value: 0.9333740831295844.\n",
            "[I 2023-11-16 14:18:35,396] Trial 4 finished with value: 0.9296803652968038 and parameters: {'n_estimators': 171, 'max_depth': 16, 'min_samples_leaf': 6}. Best is trial 2 with value: 0.9333740831295844.\n",
            "[I 2023-11-16 14:18:38,304] Trial 5 finished with value: 0.9874425727411946 and parameters: {'n_estimators': 155, 'max_depth': 19, 'min_samples_leaf': 2}. Best is trial 5 with value: 0.9874425727411946.\n",
            "[I 2023-11-16 14:18:40,849] Trial 6 finished with value: 0.8951048951048952 and parameters: {'n_estimators': 187, 'max_depth': 19, 'min_samples_leaf': 10}. Best is trial 5 with value: 0.9874425727411946.\n",
            "[I 2023-11-16 14:18:44,052] Trial 7 finished with value: 0.9293113954905546 and parameters: {'n_estimators': 174, 'max_depth': 27, 'min_samples_leaf': 6}. Best is trial 5 with value: 0.9874425727411946.\n",
            "[I 2023-11-16 14:18:49,590] Trial 8 finished with value: 0.9725274725274725 and parameters: {'n_estimators': 124, 'max_depth': 14, 'min_samples_leaf': 2}. Best is trial 5 with value: 0.9874425727411946.\n",
            "[I 2023-11-16 14:18:52,218] Trial 9 finished with value: 0.9564422784038988 and parameters: {'n_estimators': 116, 'max_depth': 28, 'min_samples_leaf': 4}. Best is trial 5 with value: 0.9874425727411946.\n",
            "[I 2023-11-16 14:18:55,306] Trial 10 finished with value: 0.9904820386859073 and parameters: {'n_estimators': 160, 'max_depth': 22, 'min_samples_leaf': 2}. Best is trial 10 with value: 0.9904820386859073.\n",
            "[I 2023-11-16 14:18:59,763] Trial 11 finished with value: 0.9911015648972077 and parameters: {'n_estimators': 157, 'max_depth': 23, 'min_samples_leaf': 2}. Best is trial 11 with value: 0.9911015648972077.\n",
            "[I 2023-11-16 14:19:06,025] Trial 12 finished with value: 0.9573690621193666 and parameters: {'n_estimators': 159, 'max_depth': 23, 'min_samples_leaf': 4}. Best is trial 11 with value: 0.9911015648972077.\n",
            "[I 2023-11-16 14:19:11,749] Trial 13 finished with value: 0.99049371358479 and parameters: {'n_estimators': 168, 'max_depth': 23, 'min_samples_leaf': 2}. Best is trial 11 with value: 0.9911015648972077.\n",
            "[I 2023-11-16 14:19:19,735] Trial 14 finished with value: 0.9758925846811108 and parameters: {'n_estimators': 178, 'max_depth': 24, 'min_samples_leaf': 3}. Best is trial 11 with value: 0.9911015648972077.\n",
            "[I 2023-11-16 14:19:23,057] Trial 15 finished with value: 0.973764490543014 and parameters: {'n_estimators': 144, 'max_depth': 30, 'min_samples_leaf': 3}. Best is trial 11 with value: 0.9911015648972077.\n",
            "[I 2023-11-16 14:19:25,842] Trial 16 finished with value: 0.9441221374045802 and parameters: {'n_estimators': 167, 'max_depth': 25, 'min_samples_leaf': 5}. Best is trial 11 with value: 0.9911015648972077.\n",
            "[I 2023-11-16 14:19:27,835] Trial 17 finished with value: 0.9107523606457508 and parameters: {'n_estimators': 130, 'max_depth': 21, 'min_samples_leaf': 8}. Best is trial 11 with value: 0.9911015648972077.\n",
            "[I 2023-11-16 14:19:32,548] Trial 18 finished with value: 0.9706959706959707 and parameters: {'n_estimators': 200, 'max_depth': 18, 'min_samples_leaf': 3}. Best is trial 11 with value: 0.9911015648972077.\n",
            "[I 2023-11-16 14:19:34,930] Trial 19 finished with value: 0.9432234432234432 and parameters: {'n_estimators': 149, 'max_depth': 25, 'min_samples_leaf': 5}. Best is trial 11 with value: 0.9911015648972077.\n"
          ]
        }
      ]
    },
    {
      "cell_type": "code",
      "source": [
        "# рассчитаем точность для тестовой выборки\n",
        "model = ensemble.RandomForestClassifier(**study.best_params,random_state=random_state, )\n",
        "model.fit(X_train, y_train)\n",
        "y_train_pred = model.predict(X_train)\n",
        "print(\"accuracy на тестовом наборе: {:.2f}\".format(model.score(X_test, y_test)))\n",
        "y_test_pred = model.predict(X_test)\n",
        "print('f1_score на тестовом наборе: {:.2f}'.format(metrics.f1_score(y_test, y_test_pred)))\n",
        "print('f1_score на тренировочном наборе: {:.2f}'.format(metrics.f1_score(y_train, y_train_pred)))"
      ],
      "metadata": {
        "colab": {
          "base_uri": "https://localhost:8080/"
        },
        "id": "cHqkD1z6ftuG",
        "outputId": "7e170770-184a-4ea6-ce0b-33af0a23e980"
      },
      "execution_count": 48,
      "outputs": [
        {
          "output_type": "stream",
          "name": "stdout",
          "text": [
            "accuracy на тестовом наборе: 0.78\n",
            "f1_score на тестовом наборе: 0.80\n",
            "f1_score на тренировочном наборе: 0.99\n"
          ]
        }
      ]
    },
    {
      "cell_type": "markdown",
      "source": [
        "Я провела еще несколько опытов с расширенными параметрами и бОльшим количеством \"точек\" поиска, но результаты остались такими же\n",
        "\n",
        "Лучшее значение метрики на тесте 0.8"
      ],
      "metadata": {
        "id": "WoH0sGHzi5--"
      }
    },
    {
      "cell_type": "code",
      "source": [],
      "metadata": {
        "id": "IIxSwa2bpJ0K"
      },
      "execution_count": null,
      "outputs": []
    }
  ],
  "metadata": {
    "kernelspec": {
      "display_name": "Python 3",
      "language": "python",
      "name": "python3"
    },
    "language_info": {
      "codemirror_mode": {
        "name": "ipython",
        "version": 3
      },
      "file_extension": ".py",
      "mimetype": "text/x-python",
      "name": "python",
      "nbconvert_exporter": "python",
      "pygments_lexer": "ipython3",
      "version": "3.8.10"
    },
    "colab": {
      "provenance": [],
      "include_colab_link": true
    }
  },
  "nbformat": 4,
  "nbformat_minor": 0
}